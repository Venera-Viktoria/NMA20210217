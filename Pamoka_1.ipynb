{
 "cells": [
  {
   "cell_type": "markdown",
   "metadata": {},
   "source": [
    "Sveiki! \n",
    "\n",
    "Šiandien pasimokysime modeliavimo pagrindų su python jupyter notebook aplinkoje.\n",
    "\n",
    "Kiekviename langelyje galime užrašyti ir įvyktdyti įvairias python komandas.\n",
    "\n",
    "    shift+enter = run cell and jump to the next (creating a new cell if there is no other new one)\n",
    "    ctrl+enter  = run cell-in place\n",
    "    alt+enter   = run cell and insert a new one below\n",
    "\n",
    "# Pirmas skyrius\n",
    "\n",
    "Pradėkime su paprasta spausdinimo funkcija."
   ]
  },
  {
   "cell_type": "code",
   "execution_count": 6,
   "metadata": {},
   "outputs": [
    {
     "name": "stdout",
     "output_type": "stream",
     "text": [
      "Sveikas pasaulį!\n"
     ]
    }
   ],
   "source": [
    "print(\"Sveikas pasaulį!\")"
   ]
  },
  {
   "cell_type": "markdown",
   "metadata": {},
   "source": [
    "Tekstą išskiriame kabutėmis. Galima naudoti viengubas '' ir dvigubas \"\" kabutes. Be kabučių simboliai yra interpretuojami kaip kintamųjų padavinimas."
   ]
  },
  {
   "cell_type": "code",
   "execution_count": 8,
   "metadata": {},
   "outputs": [
    {
     "name": "stdout",
     "output_type": "stream",
     "text": [
      "Šiandien yra vasario 17 d.\n",
      "Dabartiniai metai yra 2021\n"
     ]
    }
   ],
   "source": [
    "data=\"vasario 17 d.\"\n",
    "print(\"Šiandien yra\", data)\n",
    "print(\"Dabartiniai metai yra\",2021)"
   ]
  },
  {
   "cell_type": "markdown",
   "metadata": {},
   "source": [
    " Su Python galima atlikti įvairius matematinius veiksmus"
   ]
  },
  {
   "cell_type": "code",
   "execution_count": 16,
   "metadata": {},
   "outputs": [
    {
     "data": {
      "text/plain": [
       "4"
      ]
     },
     "execution_count": 16,
     "metadata": {},
     "output_type": "execute_result"
    }
   ],
   "source": [
    "2+2"
   ]
  },
  {
   "cell_type": "code",
   "execution_count": 11,
   "metadata": {},
   "outputs": [
    {
     "data": {
      "text/plain": [
       "10"
      ]
     },
     "execution_count": 11,
     "metadata": {},
     "output_type": "execute_result"
    }
   ],
   "source": [
    "2*5"
   ]
  },
  {
   "cell_type": "code",
   "execution_count": 17,
   "metadata": {},
   "outputs": [
    {
     "data": {
      "text/plain": [
       "2.5"
      ]
     },
     "execution_count": 17,
     "metadata": {},
     "output_type": "execute_result"
    }
   ],
   "source": [
    "5/2"
   ]
  },
  {
   "cell_type": "markdown",
   "metadata": {},
   "source": [
    "Kelimas laipsniu, pavyzdžiui, $3^3$ yra rašomas taip"
   ]
  },
  {
   "cell_type": "code",
   "execution_count": 18,
   "metadata": {},
   "outputs": [
    {
     "data": {
      "text/plain": [
       "27"
      ]
     },
     "execution_count": 18,
     "metadata": {},
     "output_type": "execute_result"
    }
   ],
   "source": [
    "3**3"
   ]
  },
  {
   "cell_type": "markdown",
   "metadata": {},
   "source": [
    "Didelius skaičius, pavyzdžiui, $6,3\\cdot 10^{23}$ taip"
   ]
  },
  {
   "cell_type": "code",
   "execution_count": 27,
   "metadata": {},
   "outputs": [
    {
     "data": {
      "text/plain": [
       "6.3e+23"
      ]
     },
     "execution_count": 27,
     "metadata": {},
     "output_type": "execute_result"
    }
   ],
   "source": [
    "6.3e23"
   ]
  },
  {
   "cell_type": "markdown",
   "metadata": {},
   "source": [
    "Sudėtingesnes funkcijas galime gauti, jei įkelsime **numpy** biblioteką."
   ]
  },
  {
   "cell_type": "code",
   "execution_count": 19,
   "metadata": {},
   "outputs": [],
   "source": [
    "import numpy as np"
   ]
  },
  {
   "cell_type": "code",
   "execution_count": 28,
   "metadata": {},
   "outputs": [
    {
     "name": "stdout",
     "output_type": "stream",
     "text": [
      "1.0 2.718281828459045 2.302585092994046 8.0\n"
     ]
    }
   ],
   "source": [
    "print(np.sin(np.pi/2), np.exp(1.0), np.log(10), np.sqrt(64))"
   ]
  },
  {
   "cell_type": "markdown",
   "metadata": {},
   "source": [
    "### Klausimas\n",
    "Kiek sekundžių trunka mikrometai?"
   ]
  },
  {
   "cell_type": "code",
   "execution_count": null,
   "metadata": {},
   "outputs": [],
   "source": []
  },
  {
   "cell_type": "code",
   "execution_count": null,
   "metadata": {},
   "outputs": [],
   "source": []
  }
 ],
 "metadata": {
  "kernelspec": {
   "display_name": "Python 3",
   "language": "python",
   "name": "python3"
  },
  "language_info": {
   "codemirror_mode": {
    "name": "ipython",
    "version": 3
   },
   "file_extension": ".py",
   "mimetype": "text/x-python",
   "name": "python",
   "nbconvert_exporter": "python",
   "pygments_lexer": "ipython3",
   "version": "3.9.1"
  }
 },
 "nbformat": 4,
 "nbformat_minor": 4
}
